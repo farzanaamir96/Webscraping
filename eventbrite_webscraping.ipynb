{
 "cells": [
  {
   "cell_type": "code",
   "execution_count": 1,
   "metadata": {},
   "outputs": [],
   "source": [
    "import requests\n",
    "from bs4 import BeautifulSoup\n",
    "import csv\n",
    "from time import sleep\n",
    "import json\n",
    "import sys, getopt, pprint\n",
    "import pymongo"
   ]
  },
  {
   "cell_type": "code",
   "execution_count": 2,
   "metadata": {},
   "outputs": [
    {
     "name": "stdout",
     "output_type": "stream",
     "text": [
      "Now scraping: Page 1\n",
      "Now scraping: Page 2\n",
      "Now scraping: Page 3\n",
      "Now scraping: Page 4\n",
      "Now scraping: Page 5\n",
      "Now scraping: Page 6\n",
      "Now scraping: Page 7\n",
      "Now scraping: Page 8\n",
      "Now scraping: Page 9\n",
      "Now scraping: Page 10\n",
      "Now scraping: Page 11\n",
      "Now scraping: Page 12\n",
      "Now scraping: Page 13\n",
      "Now scraping: Page 14\n",
      "Now scraping: Page 15\n",
      "Now scraping: Page 16\n",
      "Now scraping: Page 17\n",
      "Now scraping: Page 18\n",
      "Now scraping: Page 19\n",
      "Now scraping: Page 20\n",
      "Now scraping: Page 21\n",
      "Now scraping: Page 22\n",
      "Now scraping: Page 23\n",
      "Now scraping: Page 24\n",
      "Now scraping: Page 25\n",
      "Now scraping: Page 26\n",
      "Now scraping: Page 27\n",
      "Now scraping: Page 28\n",
      "Now scraping: Page 29\n",
      "Now scraping: Page 30\n",
      "Now scraping: Page 31\n",
      "Now scraping: Page 32\n",
      "Now scraping: Page 33\n",
      "Now scraping: Page 34\n",
      "Now scraping: Page 35\n",
      "Now scraping: Page 36\n",
      "Now scraping: Page 37\n",
      "Now scraping: Page 38\n",
      "Now scraping: Page 39\n",
      "Now scraping: Page 40\n",
      "Now scraping: Page 41\n",
      "Now scraping: Page 42\n",
      "Now scraping: Page 43\n",
      "Now scraping: Page 44\n",
      "Now scraping: Page 45\n",
      "Now scraping: Page 46\n",
      "Now scraping: Page 47\n",
      "Now scraping: Page 48\n",
      "Now scraping: Page 49\n"
     ]
    }
   ],
   "source": [
    "url = 'https://www.eventbrite.com/d/malaysia--kuala-lumpur/all-events/'\n",
    "listing = []\n",
    "\n",
    "# loop through first 50 pages of the website\n",
    "for i in range(1,50):\n",
    "    crawl = requests.get(f\"{url}{i}\")\n",
    "    soup = BeautifulSoup(crawl.text, \"html.parser\")\n",
    "    print(\"Now scraping: Page\",i)\n",
    "    \n",
    "    #save the scraped HTML to list\n",
    "    listing.append(soup.find_all(class_=\"search-event-card eds-l-pad-hor-2 eds-l-mn-pad-hor-5 eds-l-pad-vert-3 eds-l-mn-pad-vert-5\"))\n",
    "    sleep(3)\n"
   ]
  },
  {
   "cell_type": "code",
   "execution_count": 3,
   "metadata": {},
   "outputs": [],
   "source": [
    "with open(\"eventbrite.csv\", \"w\", encoding='utf-8') as file:\n",
    "    writer = csv.writer(file)\n",
    "    writer.writerow([\"Event Name\",\"Url\", \"Event Day\", \"Event Date\", \"Event Location\", \"Event Fees\"])\n",
    "\n",
    "    for ad in listing:\n",
    "        for i in ad:\n",
    "            name = str(i.find(class_=\"eds-event-card__formatted-name--is-clamped\").get_text()).strip()\n",
    "            url = i.find(\"a\")[\"href\"]\n",
    "            day = str(i.find(class_=\"eds-text-bs--fixed eds-text-color--grey-600 eds-l-mar-top-1\").get_text()).strip()\n",
    "            day1= day[0:3]\n",
    "            date = day[5:11]\n",
    "            venue = i.find_all(class_=\"eds-text-bs--fixed eds-text-color--grey-600 eds-l-mar-top-1\")[1].get_text()\n",
    "            fee =  i.find_all(class_=\"eds-text-bs--fixed eds-text-color--grey-600 eds-l-mar-top-1\")[2].get_text()\n",
    "\n",
    "            writer.writerow([name, url, day1, date, venue, fee])"
   ]
  },
  {
   "cell_type": "code",
   "execution_count": 4,
   "metadata": {},
   "outputs": [
    {
     "name": "stdout",
     "output_type": "stream",
     "text": [
      "<class 'pandas.core.frame.DataFrame'>\n",
      "RangeIndex: 1550 entries, 0 to 1549\n",
      "Data columns (total 6 columns):\n",
      "Event Name        1550 non-null object\n",
      "Url               1550 non-null object\n",
      "Event Day         1534 non-null object\n",
      "Event Date        1534 non-null object\n",
      "Event Location    1546 non-null object\n",
      "Event Fees        1468 non-null object\n",
      "dtypes: object(6)\n",
      "memory usage: 72.7+ KB\n"
     ]
    }
   ],
   "source": [
    "#Save in csv file to do monitor and cleaning\n",
    "import pandas as pd\n",
    "\n",
    "pd.read_csv(\"eventbrite.csv\").info()"
   ]
  },
  {
   "cell_type": "code",
   "execution_count": 5,
   "metadata": {},
   "outputs": [
    {
     "data": {
      "text/html": [
       "<div>\n",
       "<style scoped>\n",
       "    .dataframe tbody tr th:only-of-type {\n",
       "        vertical-align: middle;\n",
       "    }\n",
       "\n",
       "    .dataframe tbody tr th {\n",
       "        vertical-align: top;\n",
       "    }\n",
       "\n",
       "    .dataframe thead th {\n",
       "        text-align: right;\n",
       "    }\n",
       "</style>\n",
       "<table border=\"1\" class=\"dataframe\">\n",
       "  <thead>\n",
       "    <tr style=\"text-align: right;\">\n",
       "      <th></th>\n",
       "      <th>Event Name</th>\n",
       "      <th>Url</th>\n",
       "      <th>Event Day</th>\n",
       "      <th>Event Date</th>\n",
       "      <th>Event Location</th>\n",
       "      <th>Event Fees</th>\n",
       "    </tr>\n",
       "  </thead>\n",
       "  <tbody>\n",
       "    <tr>\n",
       "      <th>0</th>\n",
       "      <td>Effective Safety &amp; Health Committee(Buy 1 Get ...</td>\n",
       "      <td>https://www.eventbrite.com/e/effective-safety-...</td>\n",
       "      <td>Tue</td>\n",
       "      <td>Dec 10</td>\n",
       "      <td>Novux Training Room, Kuala Lumpur, Wilayah Per...</td>\n",
       "      <td>Starts at RM839.92</td>\n",
       "    </tr>\n",
       "    <tr>\n",
       "      <th>1</th>\n",
       "      <td>Kelas Advance - SQD Level 1</td>\n",
       "      <td>https://www.eventbrite.com/e/kelas-advance-sqd...</td>\n",
       "      <td>Tue</td>\n",
       "      <td>Jul 30</td>\n",
       "      <td>3 Towers @ KL City Centre, Ampang, Kuala Lumpur</td>\n",
       "      <td>Free</td>\n",
       "    </tr>\n",
       "    <tr>\n",
       "      <th>2</th>\n",
       "      <td>Kelas Advance - SQD Level 1</td>\n",
       "      <td>https://www.eventbrite.com/e/kelas-advance-sqd...</td>\n",
       "      <td>Tue</td>\n",
       "      <td>Aug 20</td>\n",
       "      <td>3 Towers @ KL City Centre, Ampang, Kuala Lumpur</td>\n",
       "      <td>Free</td>\n",
       "    </tr>\n",
       "    <tr>\n",
       "      <th>3</th>\n",
       "      <td>Kelas Advance - SQD Level 1</td>\n",
       "      <td>https://www.eventbrite.com/e/kelas-advance-sqd...</td>\n",
       "      <td>Tue</td>\n",
       "      <td>Aug 6,</td>\n",
       "      <td>3 Towers @ KL City Centre, Ampang, Kuala Lumpur</td>\n",
       "      <td>Free</td>\n",
       "    </tr>\n",
       "    <tr>\n",
       "      <th>4</th>\n",
       "      <td>Kelas Advance - SQD Level 1</td>\n",
       "      <td>https://www.eventbrite.com/e/kelas-advance-sqd...</td>\n",
       "      <td>Tue</td>\n",
       "      <td>Aug 27</td>\n",
       "      <td>3 Towers @ KL City Centre, Ampang, Kuala Lumpur</td>\n",
       "      <td>Free</td>\n",
       "    </tr>\n",
       "  </tbody>\n",
       "</table>\n",
       "</div>"
      ],
      "text/plain": [
       "                                          Event Name  \\\n",
       "0  Effective Safety & Health Committee(Buy 1 Get ...   \n",
       "1                        Kelas Advance - SQD Level 1   \n",
       "2                        Kelas Advance - SQD Level 1   \n",
       "3                        Kelas Advance - SQD Level 1   \n",
       "4                        Kelas Advance - SQD Level 1   \n",
       "\n",
       "                                                 Url Event Day Event Date  \\\n",
       "0  https://www.eventbrite.com/e/effective-safety-...       Tue     Dec 10   \n",
       "1  https://www.eventbrite.com/e/kelas-advance-sqd...       Tue     Jul 30   \n",
       "2  https://www.eventbrite.com/e/kelas-advance-sqd...       Tue     Aug 20   \n",
       "3  https://www.eventbrite.com/e/kelas-advance-sqd...       Tue     Aug 6,   \n",
       "4  https://www.eventbrite.com/e/kelas-advance-sqd...       Tue     Aug 27   \n",
       "\n",
       "                                      Event Location          Event Fees  \n",
       "0  Novux Training Room, Kuala Lumpur, Wilayah Per...  Starts at RM839.92  \n",
       "1    3 Towers @ KL City Centre, Ampang, Kuala Lumpur                Free  \n",
       "2    3 Towers @ KL City Centre, Ampang, Kuala Lumpur                Free  \n",
       "3    3 Towers @ KL City Centre, Ampang, Kuala Lumpur                Free  \n",
       "4    3 Towers @ KL City Centre, Ampang, Kuala Lumpur                Free  "
      ]
     },
     "execution_count": 5,
     "metadata": {},
     "output_type": "execute_result"
    }
   ],
   "source": [
    "#let's look on the scraped data\n",
    "\n",
    "data = pd.read_csv(\"eventbrite.csv\")\n",
    "data.head()"
   ]
  },
  {
   "cell_type": "code",
   "execution_count": 6,
   "metadata": {},
   "outputs": [],
   "source": [
    "#cleaning data\n",
    "data = data.drop_duplicates(subset=\"Url\", keep='first').reset_index().drop(columns='index')\n",
    "data = data.drop(['Url'], axis=1)\n",
    "\n",
    "df = data.to_csv(\"eventbrite.csv\")"
   ]
  },
  {
   "cell_type": "code",
   "execution_count": 7,
   "metadata": {},
   "outputs": [],
   "source": [
    "datajson = data.to_json(orient='table')"
   ]
  },
  {
   "cell_type": "code",
   "execution_count": 8,
   "metadata": {},
   "outputs": [],
   "source": [
    "with open('eventbrite.json', 'w') as json_file:\n",
    "    json.dump(datajson, json_file)\n",
    "\n"
   ]
  },
  {
   "cell_type": "code",
   "execution_count": null,
   "metadata": {},
   "outputs": [],
   "source": [
    "from pymongo import MongoClient\n",
    "\n",
    "client=pymongo.MongoClient()\n",
    "client = MongoClient('mongodb://localhost:27017')\n",
    "db = client.db['eventbrite_db']\n",
    "collection = db.collection['event']\n",
    "\n",
    "df = pd.read_csv(\"eventbrite.csv\") #csv file which you want to import\n",
    "records_ = df.to_dict(orient = 'records')\n",
    "result = db.collection.insert_many(records_ )\n",
    "\n",
    "result.inserted_ids"
   ]
  },
  {
   "cell_type": "markdown",
   "metadata": {},
   "source": [
    "Output data can be found and monitored on csv file or json file. Whilst the script can be found on eventbrite_website.py"
   ]
  }
 ],
 "metadata": {
  "kernelspec": {
   "display_name": "Python 3",
   "language": "python",
   "name": "python3"
  },
  "language_info": {
   "codemirror_mode": {
    "name": "ipython",
    "version": 3
   },
   "file_extension": ".py",
   "mimetype": "text/x-python",
   "name": "python",
   "nbconvert_exporter": "python",
   "pygments_lexer": "ipython3",
   "version": "3.7.3"
  }
 },
 "nbformat": 4,
 "nbformat_minor": 2
}
